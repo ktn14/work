{
 "cells": [
  {
   "cell_type": "markdown",
   "metadata": {},
   "source": [
    "### TYPE YOUR NAME HERE: Kellie Nielson"
   ]
  },
  {
   "cell_type": "markdown",
   "metadata": {},
   "source": [
    "# ISM 5136 - Data Analytics and Mining for Business\n",
    "\n",
    "## Lab Session: Numpy Introduction"
   ]
  },
  {
   "cell_type": "markdown",
   "metadata": {},
   "source": [
    "### Overview:\n",
    "This lab covers operations related to basic Numpy operations and methods / functions."
   ]
  },
  {
   "cell_type": "markdown",
   "metadata": {},
   "source": [
    "### Task:\n",
    "The code cells in this notebook have been left blank. Your task is to complete these cells and provide the execution results. The corresponding question text for each code cell is provided above the cell. Once you have completed the lab, you should publish your notebook code (the code in the .ipynb file) as a \"<u>Secret Gist</u>\" on your GitHub repository and obtain the Gist ID.\n",
    "\n",
    "### Submission Format:\n",
    "There are two deliverables of this lab: 1) the Gist ID and 2) the completed .ipynb file. Both of these should be submitted on Canvas using the corresponding lab submission link by the due date indicated on Canvas.\n",
    "\n",
    "### Important: Do <u>not</u> forget to run the cells before submitting your work.\n"
   ]
  },
  {
   "cell_type": "markdown",
   "metadata": {},
   "source": [
    "### Questions: Please note that there are multiple steps in each question. You can run each step individually (before moving on to the next one) to make sure that your results are correct."
   ]
  },
  {
   "cell_type": "markdown",
   "metadata": {},
   "source": [
    "#### 1. Please complete the steps below.\n",
    "* Create an array (Numpy ndarray) of integers between 0 and 10.\n",
    "* Replace the even numbers in the array with -1 and print out the result.\n",
    "\n",
    "##### Hints:\n",
    "1. <span style=\"color: black; background: black; span:hover { color: white}\">You can use fancy or boolean indexing (i.e., pass an array to the original array as an index) and do the assignment in the same line</span>"
   ]
  },
  {
   "cell_type": "code",
   "execution_count": 6,
   "metadata": {},
   "outputs": [],
   "source": [
    "import numpy as np"
   ]
  },
  {
   "cell_type": "code",
   "execution_count": 5,
   "metadata": {},
   "outputs": [],
   "source": [
    "a = np.array([0,1,2,3,4,5,6,7,8,9])"
   ]
  },
  {
   "cell_type": "code",
   "execution_count": 6,
   "metadata": {},
   "outputs": [],
   "source": [
    "a[a%2==0] = -1"
   ]
  },
  {
   "cell_type": "code",
   "execution_count": 7,
   "metadata": {},
   "outputs": [
    {
     "data": {
      "text/plain": [
       "array([-1,  1, -1,  3, -1,  5, -1,  7, -1,  9])"
      ]
     },
     "execution_count": 7,
     "metadata": {},
     "output_type": "execute_result"
    }
   ],
   "source": [
    "a"
   ]
  },
  {
   "cell_type": "markdown",
   "metadata": {},
   "source": [
    "#### 2. Please complete the steps below.\n",
    "* Create an array of integers between 0 and 30.\n",
    "* Obtain all the elements that are greater than 10 and that can be divided by 9 from this array. Store the output as a <u>list</u> and print it out."
   ]
  },
  {
   "cell_type": "code",
   "execution_count": 33,
   "metadata": {},
   "outputs": [],
   "source": [
    "b =np.arange(30)"
   ]
  },
  {
   "cell_type": "code",
   "execution_count": 34,
   "metadata": {},
   "outputs": [],
   "source": [
    "bList = b[(b>10)&(b%9==0)]"
   ]
  },
  {
   "cell_type": "code",
   "execution_count": 38,
   "metadata": {},
   "outputs": [
    {
     "data": {
      "text/plain": [
       "[18, 27]"
      ]
     },
     "execution_count": 38,
     "metadata": {},
     "output_type": "execute_result"
    }
   ],
   "source": [
    "bList.tolist()"
   ]
  },
  {
   "cell_type": "markdown",
   "metadata": {},
   "source": [
    "#### 3. Please complete the steps below.\n",
    "* Create a 2D array in the following form:<br>\n",
    "[[1, 5, 12], <br>\n",
    "[3, 2, 8], <br>\n",
    "[19, 4, 9]]\n",
    "* Swap columns 1 and 3 and copy the re-arranged data into a new array. Print out the new array.\n",
    "* Swap rows 2 and 3 and copy the re-arranged data into a new array. Print out the new array.\n",
    "* Sort the rows in the original array by the 2nd column, while preserving the relationship within row values.\n",
    "  * Notice that a simple sort method/function would not work here as by default \"sort\" treats each row/column as independent.\n",
    "  * Hint: <span style=\"color: black; background: black; span:hover { color: white}\">You can use argsort to find sorted indices and then pass these values to the array using fancy indexing.</span>"
   ]
  },
  {
   "cell_type": "code",
   "execution_count": 49,
   "metadata": {},
   "outputs": [
    {
     "data": {
      "text/plain": [
       "array([[ 1,  5, 12],\n",
       "       [ 3,  2,  8],\n",
       "       [19,  4,  9]])"
      ]
     },
     "execution_count": 49,
     "metadata": {},
     "output_type": "execute_result"
    }
   ],
   "source": [
    "c= np.array([[1,5,12],[3,2,8],[19,4,9]])\n",
    "c"
   ]
  },
  {
   "cell_type": "code",
   "execution_count": 50,
   "metadata": {},
   "outputs": [
    {
     "data": {
      "text/plain": [
       "array([[12,  5,  1],\n",
       "       [ 8,  2,  3],\n",
       "       [ 9,  4, 19]])"
      ]
     },
     "execution_count": 50,
     "metadata": {},
     "output_type": "execute_result"
    }
   ],
   "source": [
    "c2 = c[:, [2, 1, 0]]\n",
    "c2"
   ]
  },
  {
   "cell_type": "code",
   "execution_count": 51,
   "metadata": {},
   "outputs": [
    {
     "data": {
      "text/plain": [
       "array([[12,  5,  1],\n",
       "       [ 9,  4, 19],\n",
       "       [ 8,  2,  3]])"
      ]
     },
     "execution_count": 51,
     "metadata": {},
     "output_type": "execute_result"
    }
   ],
   "source": [
    "c3 = c2[[0,1,2]] = c2[[0,2,1]]\n",
    "c3"
   ]
  },
  {
   "cell_type": "code",
   "execution_count": 52,
   "metadata": {},
   "outputs": [],
   "source": [
    "c = c[np.argsort(c[:,1])]"
   ]
  },
  {
   "cell_type": "code",
   "execution_count": 53,
   "metadata": {},
   "outputs": [
    {
     "data": {
      "text/plain": [
       "array([[ 3,  2,  8],\n",
       "       [19,  4,  9],\n",
       "       [ 1,  5, 12]])"
      ]
     },
     "execution_count": 53,
     "metadata": {},
     "output_type": "execute_result"
    }
   ],
   "source": [
    "c"
   ]
  },
  {
   "cell_type": "markdown",
   "metadata": {},
   "source": [
    "#### 4. Please complete the steps below.\n",
    "* Initialize two objects: 1) a 10x2 numpy array filled with zeros, 2) a list of integers between 10 and 20.\n",
    "* Iterate over the list (for loop) and modify the values in the array as follows:\n",
    "  * If the list element is an even number, assign value 1 to the 1st column of the corresponding index in the array\n",
    "  * If the list element is an odd number, assign value 1 to the 2nd column of the corresponding index in the array\n",
    "* For instance, the first element in the list is 10, an even number, therefore array[0,0] should be 1.\n",
    "* Print out the modified array."
   ]
  },
  {
   "cell_type": "code",
   "execution_count": 91,
   "metadata": {},
   "outputs": [],
   "source": [
    "d = np.zeros((10,2))\n",
    "dList = list(range(10,20))"
   ]
  },
  {
   "cell_type": "code",
   "execution_count": 94,
   "metadata": {},
   "outputs": [
    {
     "name": "stdout",
     "output_type": "stream",
     "text": [
      "[[1. 0.]\n",
      " [0. 1.]\n",
      " [1. 0.]\n",
      " [0. 1.]\n",
      " [1. 0.]\n",
      " [0. 1.]\n",
      " [1. 0.]\n",
      " [0. 1.]\n",
      " [1. 0.]\n",
      " [0. 1.]]\n"
     ]
    }
   ],
   "source": [
    "count = 0 \n",
    "col1 = 0\n",
    "col2 = 1\n",
    "for i in dList:\n",
    "    if i % 2 == 0:\n",
    "        d[count,col1] =1\n",
    "    else: \n",
    "        d[count,col2] =1\n",
    "    count += 1\n",
    "print(d)"
   ]
  },
  {
   "cell_type": "markdown",
   "metadata": {},
   "source": [
    "#### 5. Please complete the steps below.\n",
    "* Initialize a 1D array with the following integers: 15,12,2,43,12,6,6,15,8,2\n",
    "* Some of the numbers above are repeated. Return a new array that includes all the numbers from the original array, but without any duplicates.\n",
    "* Find the duplicated elements in the original array and print them out.\n",
    "\n",
    "##### Hints:\n",
    "1. <span style=\"color: black; background: black; span:hover { color: white}\">You can use the unique() function and its parameters.</span>"
   ]
  },
  {
   "cell_type": "code",
   "execution_count": 84,
   "metadata": {},
   "outputs": [],
   "source": [
    "e = np.array([15,12,2,43,12,6,6,15,8,2])"
   ]
  },
  {
   "cell_type": "markdown",
   "metadata": {},
   "source": [
    "#### 6. Data Question: Import the \"iris_full.csv\" dataset into a numpy array, while skipping the 1st row (feature names). The data contains 50 samples from each of three species of Iris flowers (Setosa, Verginica, and Versicolor). Four features were measured for each sample."
   ]
  },
  {
   "cell_type": "code",
   "execution_count": null,
   "metadata": {},
   "outputs": [],
   "source": []
  },
  {
   "cell_type": "markdown",
   "metadata": {},
   "source": [
    "#### 6.1. Please complete the steps below:\n",
    "* Subset columns 2 to 5 into a new array called x. Then, convert array x to \"float\" data type.\n",
    "* Subset the last column into a new array called yStr."
   ]
  },
  {
   "cell_type": "code",
   "execution_count": null,
   "metadata": {},
   "outputs": [],
   "source": [
    "# Enter your answer to the question above in this cell."
   ]
  },
  {
   "cell_type": "markdown",
   "metadata": {},
   "source": [
    "#### 6.2. Please complete the steps below:\n",
    "* Create an array named \"y\" that stores the integer value representations of yStr observations. In other terms, convert categorical y values to indicator ones. Each unique value in yStr should be encoded as an integer.\n",
    "  * For instance, if yStr = array([Setosa,Setosa,Verginica]), then y = array([0,0,1])\n",
    "* Do not use hard coding."
   ]
  },
  {
   "cell_type": "code",
   "execution_count": 1,
   "metadata": {},
   "outputs": [],
   "source": [
    "# Enter your answer to the question above in this cell."
   ]
  },
  {
   "cell_type": "markdown",
   "metadata": {},
   "source": [
    "#### 6.3. Please complete the steps below:\n",
    "* Combine x and y arrays along axis 1 (horizontally) into a new array called combinedArr"
   ]
  },
  {
   "cell_type": "code",
   "execution_count": null,
   "metadata": {},
   "outputs": [],
   "source": [
    "# Enter your answer to the question above in this cell."
   ]
  },
  {
   "cell_type": "markdown",
   "metadata": {},
   "source": [
    "#### 6.4. Please complete the steps below:\n",
    "* Split both x and y arrays into two parts (train and test). So, you should have 4 new arrays: 1) xTrain, 2)xTest, 3) yTrain, 4) yTest.\n",
    "  * 70% of the data should go into the train dataset and 30% of the data should go into the test dataset. Allocation should be made randomly.\n",
    "  * When splitting the data, the order of the observations across the x and y arrays should be preserved.\n",
    "  * For instance, if you assign the 2nd observation into the test dataset, then both xTest and yTest should include the 2nd observation from their original arrays.\n",
    "\n",
    "##### Hints:\n",
    "1. <span style=\"color: black; background: black; span:hover { color: white}\">Numpy's random.choice function might be helpful. </span>\n",
    "1. <span style=\"color: black; background: black; span:hover { color: white}\">Pay attention to sampling with replacement vs. sampling without replacement.</span>"
   ]
  },
  {
   "cell_type": "code",
   "execution_count": null,
   "metadata": {},
   "outputs": [],
   "source": [
    "# Enter your answer to the question above in this cell."
   ]
  },
  {
   "cell_type": "markdown",
   "metadata": {},
   "source": [
    "#### 6.5. Please complete the steps below:\n",
    "* Find the mean of each column in xTest.\n",
    "* Find the maximum value of each row in xTest."
   ]
  },
  {
   "cell_type": "code",
   "execution_count": null,
   "metadata": {},
   "outputs": [],
   "source": [
    "# Enter your answer to the question above in this cell."
   ]
  }
 ],
 "metadata": {
  "kernelspec": {
   "display_name": "Python 3",
   "language": "python",
   "name": "python3"
  },
  "language_info": {
   "codemirror_mode": {
    "name": "ipython",
    "version": 3
   },
   "file_extension": ".py",
   "mimetype": "text/x-python",
   "name": "python",
   "nbconvert_exporter": "python",
   "pygments_lexer": "ipython3",
   "version": "3.6.4"
  }
 },
 "nbformat": 4,
 "nbformat_minor": 2
}
