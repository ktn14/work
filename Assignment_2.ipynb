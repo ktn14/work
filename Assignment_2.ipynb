{
 "cells": [
  {
   "cell_type": "markdown",
   "metadata": {},
   "source": [
    "TYPE YOUR NAME HERE: Kellie Taylor Nielson"
   ]
  },
  {
   "cell_type": "markdown",
   "metadata": {},
   "source": [
    "## ISM 5644 - Programming for Analytics\n",
    "\n",
    "## Assignment 2 - Coding Section"
   ]
  },
  {
   "cell_type": "markdown",
   "metadata": {},
   "source": [
    "### Important: Assignments are to be completed and submitted *individually* - i.e., you are <u>not</u> allowed to work in groups.\n",
    "### Task:\n",
    "The code cells in this notebook have been left blank. You task is to complete these cells and provide the execution results. The corresponding question text for each code cell is provided above the cell. Once you have completed the assignment, you should publish your notebook code (the code in the .ipynb file) as a \"Secret Gist\" on your GitHub repository and obtain the Gist ID.\n",
    "### Submission Format:\n",
    "There are two deliverables of this assignment: 1) the Gist ID and 2) the completed .ipynb file. Both of these should be submitted on Canvas using the corresponding submission link by the due date indicated on Canvas.\n"
   ]
  },
  {
   "cell_type": "markdown",
   "metadata": {},
   "source": [
    "### Questions:"
   ]
  },
  {
   "cell_type": "markdown",
   "metadata": {},
   "source": [
    "#### 1. Suppose that you have a string ab_string = ‘ababababab’. Write an expression to remove all the ‘b’s and create a string, a_string = ‘aaaaa’."
   ]
  },
  {
   "cell_type": "code",
   "execution_count": 1,
   "metadata": {},
   "outputs": [
    {
     "data": {
      "text/plain": [
       "'aaaaa'"
      ]
     },
     "execution_count": 1,
     "metadata": {},
     "output_type": "execute_result"
    }
   ],
   "source": [
    "ab_string = 'ababababab'\n",
    "a_string = ab_string[0::2]\n",
    "a_string"
   ]
  },
  {
   "cell_type": "markdown",
   "metadata": {},
   "source": [
    "#### 2. Given the string str1 = ‘acegikmoqsuwy’ and str2 = ‘bdfhjlnprtvxz’, use indexing to create a string str3 that is the English alphabet in order (starting from a and ending with z). You need to use str1 and str2 only, but no hardcoding of the characters."
   ]
  },
  {
   "cell_type": "code",
   "execution_count": 4,
   "metadata": {},
   "outputs": [
    {
     "name": "stdout",
     "output_type": "stream",
     "text": [
      "abcdefghijklmnopqrstuvwxyz\n"
     ]
    }
   ],
   "source": [
    "str1 = 'acegikmoqsuwy'\n",
    "str2 = 'bdfhjlnprtvxz'\n",
    "str3 = ''\n",
    "length = len(str1)\n",
    "for i in range(0,length):\n",
    "    str3 += str1[i] + str2[i]\n",
    "print(str3)"
   ]
  },
  {
   "cell_type": "markdown",
   "metadata": {},
   "source": [
    "#### 3. Given the strings s1 and s2, not necessarily of the same length, create a new string consisting of alternating characters of s1 and s2 (that is, the first character of s1 followed by the first character of s2, followed by the second character of s1, followed by the second character of s2, and so on. Once the end of either string is reached, no additional characters are added. For example, if s1 contained \"abc\" and s2 contained \"uvwxyz\", then the new string should contain \"aubvcw\"."
   ]
  },
  {
   "cell_type": "code",
   "execution_count": 5,
   "metadata": {},
   "outputs": [
    {
     "name": "stdout",
     "output_type": "stream",
     "text": [
      "aubvcw\n"
     ]
    }
   ],
   "source": [
    "str1 = 'abc'\n",
    "str2 = 'uvwxyz'\n",
    "str3 = ''\n",
    "length = len(str1)\n",
    "if str1 < str2:\n",
    "    for i in range (0,length):\n",
    "        str3 += str1[i] + str2[i]\n",
    "print(str3)\n",
    "    "
   ]
  },
  {
   "cell_type": "markdown",
   "metadata": {},
   "source": [
    "#### 4. Write a function using a for loop that takes a sentence S as an argument and returns the words in S in reversed order. For example, if S = \"I like programming for analytics\", then it should return \"analytics for programming like I\"."
   ]
  },
  {
   "cell_type": "code",
   "execution_count": 6,
   "metadata": {},
   "outputs": [
    {
     "name": "stdout",
     "output_type": "stream",
     "text": [
      "analytics for programming like I\n"
     ]
    }
   ],
   "source": [
    "s = 'I like programming for analytics'\n",
    "length = len(s)\n",
    "for i in range (0,length):\n",
    "    first, second, third, fourth, fifth = s.split()\n",
    "    transformed = fifth + ' ' + fourth + ' ' + third + ' ' + second + ' ' + first\n",
    "print(transformed)"
   ]
  },
  {
   "cell_type": "markdown",
   "metadata": {},
   "source": [
    "#### 5. Given a list of numbers, create a new list of numbers such that the first and last numbers are added and stored as the first number, the second and second-to-last numbers are stored as the second number, and so on. Note that you need to check for even and odd length of lists. In case of an odd number of integers, add the central integer in the original list to the end of the new list."
   ]
  },
  {
   "cell_type": "code",
   "execution_count": 15,
   "metadata": {},
   "outputs": [
    {
     "name": "stdout",
     "output_type": "stream",
     "text": [
      "[9, 5, 3]\n"
     ]
    }
   ],
   "source": [
    "num_list = [8,1,3,4,1]\n",
    "num_list2 = []\n",
    "length = len(num_list)\n",
    "for i in range(round(len(num_list)/2)):\n",
    "    num_list2.append(num_list[i]+num_list[-(i+1)])  \n",
    "if length % 2 != 0:\n",
    "        num_list2.append(num_list[len(num_list) // 2])\n",
    "print(num_list2)"
   ]
  }
 ],
 "metadata": {
  "kernelspec": {
   "display_name": "Python 3",
   "language": "python",
   "name": "python3"
  },
  "language_info": {
   "codemirror_mode": {
    "name": "ipython",
    "version": 3
   },
   "file_extension": ".py",
   "mimetype": "text/x-python",
   "name": "python",
   "nbconvert_exporter": "python",
   "pygments_lexer": "ipython3",
   "version": "3.6.4"
  }
 },
 "nbformat": 4,
 "nbformat_minor": 2
}
