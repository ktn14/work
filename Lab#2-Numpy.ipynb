{
 "cells": [
  {
   "cell_type": "markdown",
   "metadata": {},
   "source": [
    "### TYPE YOUR NAME HERE: Kellie Nielson"
   ]
  },
  {
   "cell_type": "markdown",
   "metadata": {},
   "source": [
    "# ISM 5136 - Data Analytics and Mining for Business\n",
    "\n",
    "## Lab Session: Numpy Introduction"
   ]
  },
  {
   "cell_type": "markdown",
   "metadata": {},
   "source": [
    "### Overview:\n",
    "This lab covers operations related to basic Numpy operations and methods / functions."
   ]
  },
  {
   "cell_type": "markdown",
   "metadata": {},
   "source": [
    "### Task:\n",
    "The code cells in this notebook have been left blank. Your task is to complete these cells and provide the execution results. The corresponding question text for each code cell is provided above the cell. Once you have completed the lab, you should publish your notebook code (the code in the .ipynb file) as a \"<u>Secret Gist</u>\" on your GitHub repository and obtain the Gist ID.\n",
    "\n",
    "### Submission Format:\n",
    "There are two deliverables of this lab: 1) the Gist ID and 2) the completed .ipynb file. Both of these should be submitted on Canvas using the corresponding lab submission link by the due date indicated on Canvas.\n",
    "\n",
    "### Important: Do <u>not</u> forget to run the cells before submitting your work.\n"
   ]
  },
  {
   "cell_type": "markdown",
   "metadata": {},
   "source": [
    "### Questions: Please note that there are multiple steps in each question. You can run each step individually (before moving on to the next one) to make sure that your results are correct."
   ]
  },
  {
   "cell_type": "markdown",
   "metadata": {},
   "source": [
    "#### 1. Please complete the steps below.\n",
    "* Create an array (Numpy ndarray) of integers between 0 and 10.\n",
    "* Replace the even numbers in the array with -1 and print out the result.\n",
    "\n",
    "##### Hints:\n",
    "1. <span style=\"color: black; background: black; span:hover { color: white}\">You can use fancy or boolean indexing (i.e., pass an array to the original array as an index) and do the assignment in the same line</span>"
   ]
  },
  {
   "cell_type": "code",
   "execution_count": 1,
   "metadata": {},
   "outputs": [],
   "source": [
    "import numpy as np"
   ]
  },
  {
   "cell_type": "code",
   "execution_count": 2,
   "metadata": {},
   "outputs": [],
   "source": [
    "a = np.array([0,1,2,3,4,5,6,7,8,9])"
   ]
  },
  {
   "cell_type": "code",
   "execution_count": 3,
   "metadata": {},
   "outputs": [],
   "source": [
    "a[a%2==0] = -1"
   ]
  },
  {
   "cell_type": "code",
   "execution_count": 4,
   "metadata": {},
   "outputs": [
    {
     "data": {
      "text/plain": [
       "array([-1,  1, -1,  3, -1,  5, -1,  7, -1,  9])"
      ]
     },
     "execution_count": 4,
     "metadata": {},
     "output_type": "execute_result"
    }
   ],
   "source": [
    "a"
   ]
  },
  {
   "cell_type": "markdown",
   "metadata": {},
   "source": [
    "#### 2. Please complete the steps below.\n",
    "* Create an array of integers between 0 and 30.\n",
    "* Obtain all the elements that are greater than 10 and that can be divided by 9 from this array. Store the output as a <u>list</u> and print it out."
   ]
  },
  {
   "cell_type": "code",
   "execution_count": 5,
   "metadata": {},
   "outputs": [],
   "source": [
    "b =np.arange(30)"
   ]
  },
  {
   "cell_type": "code",
   "execution_count": 6,
   "metadata": {},
   "outputs": [],
   "source": [
    "bList = b[(b>10)&(b%9==0)]"
   ]
  },
  {
   "cell_type": "code",
   "execution_count": 7,
   "metadata": {},
   "outputs": [
    {
     "data": {
      "text/plain": [
       "[18, 27]"
      ]
     },
     "execution_count": 7,
     "metadata": {},
     "output_type": "execute_result"
    }
   ],
   "source": [
    "bList.tolist()"
   ]
  },
  {
   "cell_type": "markdown",
   "metadata": {},
   "source": [
    "#### 3. Please complete the steps below.\n",
    "* Create a 2D array in the following form:<br>\n",
    "[[1, 5, 12], <br>\n",
    "[3, 2, 8], <br>\n",
    "[19, 4, 9]]\n",
    "* Swap columns 1 and 3 and copy the re-arranged data into a new array. Print out the new array.\n",
    "* Swap rows 2 and 3 and copy the re-arranged data into a new array. Print out the new array.\n",
    "* Sort the rows in the original array by the 2nd column, while preserving the relationship within row values.\n",
    "  * Notice that a simple sort method/function would not work here as by default \"sort\" treats each row/column as independent.\n",
    "  * Hint: <span style=\"color: black; background: black; span:hover { color: white}\">You can use argsort to find sorted indices and then pass these values to the array using fancy indexing.</span>"
   ]
  },
  {
   "cell_type": "code",
   "execution_count": 8,
   "metadata": {},
   "outputs": [
    {
     "data": {
      "text/plain": [
       "array([[ 1,  5, 12],\n",
       "       [ 3,  2,  8],\n",
       "       [19,  4,  9]])"
      ]
     },
     "execution_count": 8,
     "metadata": {},
     "output_type": "execute_result"
    }
   ],
   "source": [
    "c= np.array([[1,5,12],[3,2,8],[19,4,9]])\n",
    "c"
   ]
  },
  {
   "cell_type": "code",
   "execution_count": 9,
   "metadata": {},
   "outputs": [
    {
     "data": {
      "text/plain": [
       "array([[12,  5,  1],\n",
       "       [ 8,  2,  3],\n",
       "       [ 9,  4, 19]])"
      ]
     },
     "execution_count": 9,
     "metadata": {},
     "output_type": "execute_result"
    }
   ],
   "source": [
    "c2 = c[:, [2, 1, 0]]\n",
    "c2"
   ]
  },
  {
   "cell_type": "code",
   "execution_count": 10,
   "metadata": {},
   "outputs": [
    {
     "data": {
      "text/plain": [
       "array([[12,  5,  1],\n",
       "       [ 9,  4, 19],\n",
       "       [ 8,  2,  3]])"
      ]
     },
     "execution_count": 10,
     "metadata": {},
     "output_type": "execute_result"
    }
   ],
   "source": [
    "c3 = c2[[0,1,2]] = c2[[0,2,1]]\n",
    "c3"
   ]
  },
  {
   "cell_type": "code",
   "execution_count": 11,
   "metadata": {},
   "outputs": [],
   "source": [
    "c = c[np.argsort(c[:,1])]"
   ]
  },
  {
   "cell_type": "code",
   "execution_count": 12,
   "metadata": {},
   "outputs": [
    {
     "data": {
      "text/plain": [
       "array([[ 3,  2,  8],\n",
       "       [19,  4,  9],\n",
       "       [ 1,  5, 12]])"
      ]
     },
     "execution_count": 12,
     "metadata": {},
     "output_type": "execute_result"
    }
   ],
   "source": [
    "c"
   ]
  },
  {
   "cell_type": "markdown",
   "metadata": {},
   "source": [
    "#### 4. Please complete the steps below.\n",
    "* Initialize two objects: 1) a 10x2 numpy array filled with zeros, 2) a list of integers between 10 and 20.\n",
    "* Iterate over the list (for loop) and modify the values in the array as follows:\n",
    "  * If the list element is an even number, assign value 1 to the 1st column of the corresponding index in the array\n",
    "  * If the list element is an odd number, assign value 1 to the 2nd column of the corresponding index in the array\n",
    "* For instance, the first element in the list is 10, an even number, therefore array[0,0] should be 1.\n",
    "* Print out the modified array."
   ]
  },
  {
   "cell_type": "code",
   "execution_count": 13,
   "metadata": {},
   "outputs": [],
   "source": [
    "d = np.zeros((10,2))\n",
    "dList = list(range(10,20))"
   ]
  },
  {
   "cell_type": "code",
   "execution_count": 14,
   "metadata": {},
   "outputs": [
    {
     "name": "stdout",
     "output_type": "stream",
     "text": [
      "[[1. 0.]\n",
      " [0. 1.]\n",
      " [1. 0.]\n",
      " [0. 1.]\n",
      " [1. 0.]\n",
      " [0. 1.]\n",
      " [1. 0.]\n",
      " [0. 1.]\n",
      " [1. 0.]\n",
      " [0. 1.]]\n"
     ]
    }
   ],
   "source": [
    "count = 0 \n",
    "col1 = 0\n",
    "col2 = 1\n",
    "for i in dList:\n",
    "    if i % 2 == 0:\n",
    "        d[count,col1] =1\n",
    "    else: \n",
    "        d[count,col2] =1\n",
    "    count += 1\n",
    "print(d)"
   ]
  },
  {
   "cell_type": "markdown",
   "metadata": {},
   "source": [
    "#### 5. Please complete the steps below.\n",
    "* Initialize a 1D array with the following integers: 15,12,2,43,12,6,6,15,8,2\n",
    "* Some of the numbers above are repeated. Return a new array that includes all the numbers from the original array, but without any duplicates.\n",
    "* Find the duplicated elements in the original array and print them out.\n",
    "\n",
    "##### Hints:\n",
    "1. <span style=\"color: black; background: black; span:hover { color: white}\">You can use the unique() function and its parameters.</span>"
   ]
  },
  {
   "cell_type": "code",
   "execution_count": 15,
   "metadata": {},
   "outputs": [],
   "source": [
    "e = np.array([15,12,2,43,12,6,6,15,8,2])\n",
    "e2 = e.copy()"
   ]
  },
  {
   "cell_type": "code",
   "execution_count": 16,
   "metadata": {},
   "outputs": [
    {
     "data": {
      "text/plain": [
       "array([ 2,  6,  8, 12, 15, 43])"
      ]
     },
     "execution_count": 16,
     "metadata": {},
     "output_type": "execute_result"
    }
   ],
   "source": [
    "np.unique(e2)"
   ]
  },
  {
   "cell_type": "code",
   "execution_count": 17,
   "metadata": {},
   "outputs": [
    {
     "name": "stdout",
     "output_type": "stream",
     "text": [
      "[12  6 15  2]\n"
     ]
    }
   ],
   "source": [
    "indices = np.setdiff1d(np.arange(len(e)), np.unique(e, return_index=True)[1])\n",
    "print(e[indices])"
   ]
  },
  {
   "cell_type": "markdown",
   "metadata": {},
   "source": [
    "#### 6. Data Question: Import the \"iris_full.csv\" dataset into a numpy array, while skipping the 1st row (feature names). The data contains 50 samples from each of three species of Iris flowers (Setosa, Verginica, and Versicolor). Four features were measured for each sample."
   ]
  },
  {
   "cell_type": "code",
   "execution_count": 18,
   "metadata": {},
   "outputs": [
    {
     "data": {
      "text/plain": [
       "array([[1, 0.2, 1.4, 3.5, 5.1, 'Setosa'],\n",
       "       [1, 0.2, 1.4, 3.0, 4.9, 'Setosa'],\n",
       "       [1, 0.2, 1.3, 3.2, 4.7, 'Setosa'],\n",
       "       [1, 0.2, 1.5, 3.1, 4.6, 'Setosa'],\n",
       "       [1, 0.2, 1.4, 3.6, 5.0, 'Setosa'],\n",
       "       [1, 0.4, 1.7, 3.9, 5.4, 'Setosa'],\n",
       "       [1, 0.3, 1.4, 3.4, 4.6, 'Setosa'],\n",
       "       [1, 0.2, 1.5, 3.4, 5.0, 'Setosa'],\n",
       "       [1, 0.2, 1.4, 2.9, 4.4, 'Setosa'],\n",
       "       [1, 0.1, 1.5, 3.1, 4.9, 'Setosa'],\n",
       "       [1, 0.2, 1.5, 3.7, 5.4, 'Setosa'],\n",
       "       [1, 0.2, 1.6, 3.4, 4.8, 'Setosa'],\n",
       "       [1, 0.1, 1.4, 3.0, 4.8, 'Setosa'],\n",
       "       [1, 0.1, 1.1, 3.0, 4.3, 'Setosa'],\n",
       "       [1, 0.2, 1.2, 4.0, 5.8, 'Setosa'],\n",
       "       [1, 0.4, 1.5, 4.4, 5.7, 'Setosa'],\n",
       "       [1, 0.4, 1.3, 3.9, 5.4, 'Setosa'],\n",
       "       [1, 0.3, 1.4, 3.5, 5.1, 'Setosa'],\n",
       "       [1, 0.3, 1.7, 3.8, 5.7, 'Setosa'],\n",
       "       [1, 0.3, 1.5, 3.8, 5.1, 'Setosa'],\n",
       "       [1, 0.2, 1.7, 3.4, 5.4, 'Setosa'],\n",
       "       [1, 0.4, 1.5, 3.7, 5.1, 'Setosa'],\n",
       "       [1, 0.2, 1.0, 3.6, 4.6, 'Setosa'],\n",
       "       [1, 0.5, 1.7, 3.3, 5.1, 'Setosa'],\n",
       "       [1, 0.2, 1.9, 3.4, 4.8, 'Setosa'],\n",
       "       [1, 0.2, 1.6, 3.0, 5.0, 'Setosa'],\n",
       "       [1, 0.4, 1.6, 3.4, 5.0, 'Setosa'],\n",
       "       [1, 0.2, 1.5, 3.5, 5.2, 'Setosa'],\n",
       "       [1, 0.2, 1.4, 3.4, 5.2, 'Setosa'],\n",
       "       [1, 0.2, 1.6, 3.2, 4.7, 'Setosa'],\n",
       "       [1, 0.2, 1.6, 3.1, 4.8, 'Setosa'],\n",
       "       [1, 0.4, 1.5, 3.4, 5.4, 'Setosa'],\n",
       "       [1, 0.1, 1.5, 4.1, 5.2, 'Setosa'],\n",
       "       [1, 0.2, 1.4, 4.2, 5.5, 'Setosa'],\n",
       "       [1, 0.2, 1.5, 3.1, 4.9, 'Setosa'],\n",
       "       [1, 0.2, 1.2, 3.2, 5.0, 'Setosa'],\n",
       "       [1, 0.2, 1.3, 3.5, 5.5, 'Setosa'],\n",
       "       [1, 0.1, 1.4, 3.6, 4.9, 'Setosa'],\n",
       "       [1, 0.2, 1.3, 3.0, 4.4, 'Setosa'],\n",
       "       [1, 0.2, 1.5, 3.4, 5.1, 'Setosa'],\n",
       "       [1, 0.3, 1.3, 3.5, 5.0, 'Setosa'],\n",
       "       [1, 0.3, 1.3, 2.3, 4.5, 'Setosa'],\n",
       "       [1, 0.2, 1.3, 3.2, 4.4, 'Setosa'],\n",
       "       [1, 0.6, 1.6, 3.5, 5.0, 'Setosa'],\n",
       "       [1, 0.4, 1.9, 3.8, 5.1, 'Setosa'],\n",
       "       [1, 0.3, 1.4, 3.0, 4.8, 'Setosa'],\n",
       "       [1, 0.2, 1.6, 3.8, 5.1, 'Setosa'],\n",
       "       [1, 0.2, 1.4, 3.2, 4.6, 'Setosa'],\n",
       "       [1, 0.2, 1.5, 3.7, 5.3, 'Setosa'],\n",
       "       [1, 0.2, 1.4, 3.3, 5.0, 'Setosa'],\n",
       "       [2, 1.4, 4.7, 3.2, 7.0, 'Versicolor'],\n",
       "       [2, 1.5, 4.5, 3.2, 6.4, 'Versicolor'],\n",
       "       [2, 1.5, 4.9, 3.1, 6.9, 'Versicolor'],\n",
       "       [2, 1.3, 4.0, 2.3, 5.5, 'Versicolor'],\n",
       "       [2, 1.5, 4.6, 2.8, 6.5, 'Versicolor'],\n",
       "       [2, 1.3, 4.5, 2.8, 5.7, 'Versicolor'],\n",
       "       [2, 1.6, 4.7, 3.3, 6.3, 'Versicolor'],\n",
       "       [2, 1.0, 3.3, 2.4, 4.9, 'Versicolor'],\n",
       "       [2, 1.3, 4.6, 2.9, 6.6, 'Versicolor'],\n",
       "       [2, 1.4, 3.9, 2.7, 5.2, 'Versicolor'],\n",
       "       [2, 1.0, 3.5, 2.0, 5.0, 'Versicolor'],\n",
       "       [2, 1.5, 4.2, 3.0, 5.9, 'Versicolor'],\n",
       "       [2, 1.0, 4.0, 2.2, 6.0, 'Versicolor'],\n",
       "       [2, 1.4, 4.7, 2.9, 6.1, 'Versicolor'],\n",
       "       [2, 1.3, 3.6, 2.9, 5.6, 'Versicolor'],\n",
       "       [2, 1.4, 4.4, 3.1, 6.7, 'Versicolor'],\n",
       "       [2, 1.5, 4.5, 3.0, 5.6, 'Versicolor'],\n",
       "       [2, 1.0, 4.1, 2.7, 5.8, 'Versicolor'],\n",
       "       [2, 1.5, 4.5, 2.2, 6.2, 'Versicolor'],\n",
       "       [2, 1.1, 3.9, 2.5, 5.6, 'Versicolor'],\n",
       "       [2, 1.8, 4.8, 3.2, 5.9, 'Versicolor'],\n",
       "       [2, 1.3, 4.0, 2.8, 6.1, 'Versicolor'],\n",
       "       [2, 1.5, 4.9, 2.5, 6.3, 'Versicolor'],\n",
       "       [2, 1.2, 4.7, 2.8, 6.1, 'Versicolor'],\n",
       "       [2, 1.3, 4.3, 2.9, 6.4, 'Versicolor'],\n",
       "       [2, 1.4, 4.4, 3.0, 6.6, 'Versicolor'],\n",
       "       [2, 1.4, 4.8, 2.8, 6.8, 'Versicolor'],\n",
       "       [2, 1.7, 5.0, 3.0, 6.7, 'Versicolor'],\n",
       "       [2, 1.5, 4.5, 2.9, 6.0, 'Versicolor'],\n",
       "       [2, 1.0, 3.5, 2.6, 5.7, 'Versicolor'],\n",
       "       [2, 1.1, 3.8, 2.4, 5.5, 'Versicolor'],\n",
       "       [2, 1.0, 3.7, 2.4, 5.5, 'Versicolor'],\n",
       "       [2, 1.2, 3.9, 2.7, 5.8, 'Versicolor'],\n",
       "       [2, 1.6, 5.1, 2.7, 6.0, 'Versicolor'],\n",
       "       [2, 1.5, 4.5, 3.0, 5.4, 'Versicolor'],\n",
       "       [2, 1.6, 4.5, 3.4, 6.0, 'Versicolor'],\n",
       "       [2, 1.5, 4.7, 3.1, 6.7, 'Versicolor'],\n",
       "       [2, 1.3, 4.4, 2.3, 6.3, 'Versicolor'],\n",
       "       [2, 1.3, 4.1, 3.0, 5.6, 'Versicolor'],\n",
       "       [2, 1.3, 4.0, 2.5, 5.5, 'Versicolor'],\n",
       "       [2, 1.2, 4.4, 2.6, 5.5, 'Versicolor'],\n",
       "       [2, 1.4, 4.6, 3.0, 6.1, 'Versicolor'],\n",
       "       [2, 1.2, 4.0, 2.6, 5.8, 'Versicolor'],\n",
       "       [2, 1.0, 3.3, 2.3, 5.0, 'Versicolor'],\n",
       "       [2, 1.3, 4.2, 2.7, 5.6, 'Versicolor'],\n",
       "       [2, 1.2, 4.2, 3.0, 5.7, 'Versicolor'],\n",
       "       [2, 1.3, 4.2, 2.9, 5.7, 'Versicolor'],\n",
       "       [2, 1.3, 4.3, 2.9, 6.2, 'Versicolor'],\n",
       "       [2, 1.1, 3.0, 2.5, 5.1, 'Versicolor'],\n",
       "       [2, 1.3, 4.1, 2.8, 5.7, 'Versicolor'],\n",
       "       [3, 2.5, 6.0, 3.3, 6.3, 'Verginica'],\n",
       "       [3, 1.9, 5.1, 2.7, 5.8, 'Verginica'],\n",
       "       [3, 2.1, 5.9, 3.0, 7.1, 'Verginica'],\n",
       "       [3, 1.8, 5.6, 2.9, 6.3, 'Verginica'],\n",
       "       [3, 2.2, 5.8, 3.0, 6.5, 'Verginica'],\n",
       "       [3, 2.1, 6.6, 3.0, 7.6, 'Verginica'],\n",
       "       [3, 1.7, 4.5, 2.5, 4.9, 'Verginica'],\n",
       "       [3, 1.8, 6.3, 2.9, 7.3, 'Verginica'],\n",
       "       [3, 1.8, 5.8, 2.5, 6.7, 'Verginica'],\n",
       "       [3, 2.5, 6.1, 3.6, 7.2, 'Verginica'],\n",
       "       [3, 2.0, 5.1, 3.2, 6.5, 'Verginica'],\n",
       "       [3, 1.9, 5.3, 2.7, 6.4, 'Verginica'],\n",
       "       [3, 2.1, 5.5, 3.0, 6.8, 'Verginica'],\n",
       "       [3, 2.0, 5.0, 2.5, 5.7, 'Verginica'],\n",
       "       [3, 2.4, 5.1, 2.8, 5.8, 'Verginica'],\n",
       "       [3, 2.3, 5.3, 3.2, 6.4, 'Verginica'],\n",
       "       [3, 1.8, 5.5, 3.0, 6.5, 'Verginica'],\n",
       "       [3, 2.2, 6.7, 3.8, 7.7, 'Verginica'],\n",
       "       [3, 2.3, 6.9, 2.6, 7.7, 'Verginica'],\n",
       "       [3, 1.5, 5.0, 2.2, 6.0, 'Verginica'],\n",
       "       [3, 2.3, 5.7, 3.2, 6.9, 'Verginica'],\n",
       "       [3, 2.0, 4.9, 2.8, 5.6, 'Verginica'],\n",
       "       [3, 2.0, 6.7, 2.8, 7.7, 'Verginica'],\n",
       "       [3, 1.8, 4.9, 2.7, 6.3, 'Verginica'],\n",
       "       [3, 2.1, 5.7, 3.3, 6.7, 'Verginica'],\n",
       "       [3, 1.8, 6.0, 3.2, 7.2, 'Verginica'],\n",
       "       [3, 1.8, 4.8, 2.8, 6.2, 'Verginica'],\n",
       "       [3, 1.8, 4.9, 3.0, 6.1, 'Verginica'],\n",
       "       [3, 2.1, 5.6, 2.8, 6.4, 'Verginica'],\n",
       "       [3, 1.6, 5.8, 3.0, 7.2, 'Verginica'],\n",
       "       [3, 1.9, 6.1, 2.8, 7.4, 'Verginica'],\n",
       "       [3, 2.0, 6.4, 3.8, 7.9, 'Verginica'],\n",
       "       [3, 2.2, 5.6, 2.8, 6.4, 'Verginica'],\n",
       "       [3, 1.5, 5.1, 2.8, 6.3, 'Verginica'],\n",
       "       [3, 1.4, 5.6, 2.6, 6.1, 'Verginica'],\n",
       "       [3, 2.3, 6.1, 3.0, 7.7, 'Verginica'],\n",
       "       [3, 2.4, 5.6, 3.4, 6.3, 'Verginica'],\n",
       "       [3, 1.8, 5.5, 3.1, 6.4, 'Verginica'],\n",
       "       [3, 1.8, 4.8, 3.0, 6.0, 'Verginica'],\n",
       "       [3, 2.1, 5.4, 3.1, 6.9, 'Verginica'],\n",
       "       [3, 2.4, 5.6, 3.1, 6.7, 'Verginica'],\n",
       "       [3, 2.3, 5.1, 3.1, 6.9, 'Verginica'],\n",
       "       [3, 1.9, 5.1, 2.7, 5.8, 'Verginica'],\n",
       "       [3, 2.3, 5.9, 3.2, 6.8, 'Verginica'],\n",
       "       [3, 2.5, 5.7, 3.3, 6.7, 'Verginica'],\n",
       "       [3, 2.3, 5.2, 3.0, 6.7, 'Verginica'],\n",
       "       [3, 1.9, 5.0, 2.5, 6.3, 'Verginica'],\n",
       "       [3, 2.0, 5.2, 3.0, 6.5, 'Verginica'],\n",
       "       [3, 2.3, 5.4, 3.4, 6.2, 'Verginica'],\n",
       "       [3, 1.8, 5.1, 3.0, 5.9, 'Verginica']], dtype=object)"
      ]
     },
     "execution_count": 18,
     "metadata": {},
     "output_type": "execute_result"
    }
   ],
   "source": [
    "import pandas as pd \n",
    "df = pd.read_csv('C:\\\\Users\\\\ktn14\\\\Downloads\\\\iris_full.csv')\n",
    "array = df.values\n",
    "array"
   ]
  },
  {
   "cell_type": "markdown",
   "metadata": {},
   "source": [
    "#### 6.1. Please complete the steps below:\n",
    "* Subset columns 2 to 5 into a new array called x. Then, convert array x to \"float\" data type.\n",
    "* Subset the last column into a new array called yStr."
   ]
  },
  {
   "cell_type": "code",
   "execution_count": 19,
   "metadata": {},
   "outputs": [],
   "source": [
    "x = array[:,[1,4]]\n",
    "x = np.array(x, dtype=float)\n"
   ]
  },
  {
   "cell_type": "code",
   "execution_count": 20,
   "metadata": {},
   "outputs": [],
   "source": [
    "yStr = array[:,-1]\n"
   ]
  },
  {
   "cell_type": "markdown",
   "metadata": {},
   "source": [
    "#### 6.2. Please complete the steps below:\n",
    "* Create an array named \"y\" that stores the integer value representations of yStr observations. In other terms, convert categorical y values to indicator ones. Each unique value in yStr should be encoded as an integer.\n",
    "  * For instance, if yStr = array([Setosa,Setosa,Verginica]), then y = array([0,0,1])\n",
    "* Do not use hard coding."
   ]
  },
  {
   "cell_type": "code",
   "execution_count": 21,
   "metadata": {},
   "outputs": [
    {
     "data": {
      "text/plain": [
       "array([[0],\n",
       "       [0],\n",
       "       [0],\n",
       "       [0],\n",
       "       [0],\n",
       "       [0],\n",
       "       [0],\n",
       "       [0],\n",
       "       [0],\n",
       "       [0],\n",
       "       [0],\n",
       "       [0],\n",
       "       [0],\n",
       "       [0],\n",
       "       [0],\n",
       "       [0],\n",
       "       [0],\n",
       "       [0],\n",
       "       [0],\n",
       "       [0],\n",
       "       [0],\n",
       "       [0],\n",
       "       [0],\n",
       "       [0],\n",
       "       [0],\n",
       "       [0],\n",
       "       [0],\n",
       "       [0],\n",
       "       [0],\n",
       "       [0],\n",
       "       [0],\n",
       "       [0],\n",
       "       [0],\n",
       "       [0],\n",
       "       [0],\n",
       "       [0],\n",
       "       [0],\n",
       "       [0],\n",
       "       [0],\n",
       "       [0],\n",
       "       [0],\n",
       "       [0],\n",
       "       [0],\n",
       "       [0],\n",
       "       [0],\n",
       "       [0],\n",
       "       [0],\n",
       "       [0],\n",
       "       [0],\n",
       "       [0],\n",
       "       [1],\n",
       "       [1],\n",
       "       [1],\n",
       "       [1],\n",
       "       [1],\n",
       "       [1],\n",
       "       [1],\n",
       "       [1],\n",
       "       [1],\n",
       "       [1],\n",
       "       [1],\n",
       "       [1],\n",
       "       [1],\n",
       "       [1],\n",
       "       [1],\n",
       "       [1],\n",
       "       [1],\n",
       "       [1],\n",
       "       [1],\n",
       "       [1],\n",
       "       [1],\n",
       "       [1],\n",
       "       [1],\n",
       "       [1],\n",
       "       [1],\n",
       "       [1],\n",
       "       [1],\n",
       "       [1],\n",
       "       [1],\n",
       "       [1],\n",
       "       [1],\n",
       "       [1],\n",
       "       [1],\n",
       "       [1],\n",
       "       [1],\n",
       "       [1],\n",
       "       [1],\n",
       "       [1],\n",
       "       [1],\n",
       "       [1],\n",
       "       [1],\n",
       "       [1],\n",
       "       [1],\n",
       "       [1],\n",
       "       [1],\n",
       "       [1],\n",
       "       [1],\n",
       "       [1],\n",
       "       [1],\n",
       "       [1],\n",
       "       [2],\n",
       "       [2],\n",
       "       [2],\n",
       "       [2],\n",
       "       [2],\n",
       "       [2],\n",
       "       [2],\n",
       "       [2],\n",
       "       [2],\n",
       "       [2],\n",
       "       [2],\n",
       "       [2],\n",
       "       [2],\n",
       "       [2],\n",
       "       [2],\n",
       "       [2],\n",
       "       [2],\n",
       "       [2],\n",
       "       [2],\n",
       "       [2],\n",
       "       [2],\n",
       "       [2],\n",
       "       [2],\n",
       "       [2],\n",
       "       [2],\n",
       "       [2],\n",
       "       [2],\n",
       "       [2],\n",
       "       [2],\n",
       "       [2],\n",
       "       [2],\n",
       "       [2],\n",
       "       [2],\n",
       "       [2],\n",
       "       [2],\n",
       "       [2],\n",
       "       [2],\n",
       "       [2],\n",
       "       [2],\n",
       "       [2],\n",
       "       [2],\n",
       "       [2],\n",
       "       [2],\n",
       "       [2],\n",
       "       [2],\n",
       "       [2],\n",
       "       [2],\n",
       "       [2],\n",
       "       [2],\n",
       "       [2]], dtype=int64)"
      ]
     },
     "execution_count": 21,
     "metadata": {},
     "output_type": "execute_result"
    }
   ],
   "source": [
    "y = pd.factorize(yStr)\n",
    "y = np.array(y)\n",
    "y = y[0].reshape(150,1)\n",
    "y"
   ]
  },
  {
   "cell_type": "markdown",
   "metadata": {},
   "source": [
    "#### 6.3. Please complete the steps below:\n",
    "* Combine x and y arrays along axis 1 (horizontally) into a new array called combinedArr"
   ]
  },
  {
   "cell_type": "code",
   "execution_count": 22,
   "metadata": {},
   "outputs": [
    {
     "data": {
      "text/plain": [
       "array([[0.2, 5.1, 0. ],\n",
       "       [0.2, 4.9, 0. ],\n",
       "       [0.2, 4.7, 0. ],\n",
       "       [0.2, 4.6, 0. ],\n",
       "       [0.2, 5. , 0. ],\n",
       "       [0.4, 5.4, 0. ],\n",
       "       [0.3, 4.6, 0. ],\n",
       "       [0.2, 5. , 0. ],\n",
       "       [0.2, 4.4, 0. ],\n",
       "       [0.1, 4.9, 0. ],\n",
       "       [0.2, 5.4, 0. ],\n",
       "       [0.2, 4.8, 0. ],\n",
       "       [0.1, 4.8, 0. ],\n",
       "       [0.1, 4.3, 0. ],\n",
       "       [0.2, 5.8, 0. ],\n",
       "       [0.4, 5.7, 0. ],\n",
       "       [0.4, 5.4, 0. ],\n",
       "       [0.3, 5.1, 0. ],\n",
       "       [0.3, 5.7, 0. ],\n",
       "       [0.3, 5.1, 0. ],\n",
       "       [0.2, 5.4, 0. ],\n",
       "       [0.4, 5.1, 0. ],\n",
       "       [0.2, 4.6, 0. ],\n",
       "       [0.5, 5.1, 0. ],\n",
       "       [0.2, 4.8, 0. ],\n",
       "       [0.2, 5. , 0. ],\n",
       "       [0.4, 5. , 0. ],\n",
       "       [0.2, 5.2, 0. ],\n",
       "       [0.2, 5.2, 0. ],\n",
       "       [0.2, 4.7, 0. ],\n",
       "       [0.2, 4.8, 0. ],\n",
       "       [0.4, 5.4, 0. ],\n",
       "       [0.1, 5.2, 0. ],\n",
       "       [0.2, 5.5, 0. ],\n",
       "       [0.2, 4.9, 0. ],\n",
       "       [0.2, 5. , 0. ],\n",
       "       [0.2, 5.5, 0. ],\n",
       "       [0.1, 4.9, 0. ],\n",
       "       [0.2, 4.4, 0. ],\n",
       "       [0.2, 5.1, 0. ],\n",
       "       [0.3, 5. , 0. ],\n",
       "       [0.3, 4.5, 0. ],\n",
       "       [0.2, 4.4, 0. ],\n",
       "       [0.6, 5. , 0. ],\n",
       "       [0.4, 5.1, 0. ],\n",
       "       [0.3, 4.8, 0. ],\n",
       "       [0.2, 5.1, 0. ],\n",
       "       [0.2, 4.6, 0. ],\n",
       "       [0.2, 5.3, 0. ],\n",
       "       [0.2, 5. , 0. ],\n",
       "       [1.4, 7. , 1. ],\n",
       "       [1.5, 6.4, 1. ],\n",
       "       [1.5, 6.9, 1. ],\n",
       "       [1.3, 5.5, 1. ],\n",
       "       [1.5, 6.5, 1. ],\n",
       "       [1.3, 5.7, 1. ],\n",
       "       [1.6, 6.3, 1. ],\n",
       "       [1. , 4.9, 1. ],\n",
       "       [1.3, 6.6, 1. ],\n",
       "       [1.4, 5.2, 1. ],\n",
       "       [1. , 5. , 1. ],\n",
       "       [1.5, 5.9, 1. ],\n",
       "       [1. , 6. , 1. ],\n",
       "       [1.4, 6.1, 1. ],\n",
       "       [1.3, 5.6, 1. ],\n",
       "       [1.4, 6.7, 1. ],\n",
       "       [1.5, 5.6, 1. ],\n",
       "       [1. , 5.8, 1. ],\n",
       "       [1.5, 6.2, 1. ],\n",
       "       [1.1, 5.6, 1. ],\n",
       "       [1.8, 5.9, 1. ],\n",
       "       [1.3, 6.1, 1. ],\n",
       "       [1.5, 6.3, 1. ],\n",
       "       [1.2, 6.1, 1. ],\n",
       "       [1.3, 6.4, 1. ],\n",
       "       [1.4, 6.6, 1. ],\n",
       "       [1.4, 6.8, 1. ],\n",
       "       [1.7, 6.7, 1. ],\n",
       "       [1.5, 6. , 1. ],\n",
       "       [1. , 5.7, 1. ],\n",
       "       [1.1, 5.5, 1. ],\n",
       "       [1. , 5.5, 1. ],\n",
       "       [1.2, 5.8, 1. ],\n",
       "       [1.6, 6. , 1. ],\n",
       "       [1.5, 5.4, 1. ],\n",
       "       [1.6, 6. , 1. ],\n",
       "       [1.5, 6.7, 1. ],\n",
       "       [1.3, 6.3, 1. ],\n",
       "       [1.3, 5.6, 1. ],\n",
       "       [1.3, 5.5, 1. ],\n",
       "       [1.2, 5.5, 1. ],\n",
       "       [1.4, 6.1, 1. ],\n",
       "       [1.2, 5.8, 1. ],\n",
       "       [1. , 5. , 1. ],\n",
       "       [1.3, 5.6, 1. ],\n",
       "       [1.2, 5.7, 1. ],\n",
       "       [1.3, 5.7, 1. ],\n",
       "       [1.3, 6.2, 1. ],\n",
       "       [1.1, 5.1, 1. ],\n",
       "       [1.3, 5.7, 1. ],\n",
       "       [2.5, 6.3, 2. ],\n",
       "       [1.9, 5.8, 2. ],\n",
       "       [2.1, 7.1, 2. ],\n",
       "       [1.8, 6.3, 2. ],\n",
       "       [2.2, 6.5, 2. ],\n",
       "       [2.1, 7.6, 2. ],\n",
       "       [1.7, 4.9, 2. ],\n",
       "       [1.8, 7.3, 2. ],\n",
       "       [1.8, 6.7, 2. ],\n",
       "       [2.5, 7.2, 2. ],\n",
       "       [2. , 6.5, 2. ],\n",
       "       [1.9, 6.4, 2. ],\n",
       "       [2.1, 6.8, 2. ],\n",
       "       [2. , 5.7, 2. ],\n",
       "       [2.4, 5.8, 2. ],\n",
       "       [2.3, 6.4, 2. ],\n",
       "       [1.8, 6.5, 2. ],\n",
       "       [2.2, 7.7, 2. ],\n",
       "       [2.3, 7.7, 2. ],\n",
       "       [1.5, 6. , 2. ],\n",
       "       [2.3, 6.9, 2. ],\n",
       "       [2. , 5.6, 2. ],\n",
       "       [2. , 7.7, 2. ],\n",
       "       [1.8, 6.3, 2. ],\n",
       "       [2.1, 6.7, 2. ],\n",
       "       [1.8, 7.2, 2. ],\n",
       "       [1.8, 6.2, 2. ],\n",
       "       [1.8, 6.1, 2. ],\n",
       "       [2.1, 6.4, 2. ],\n",
       "       [1.6, 7.2, 2. ],\n",
       "       [1.9, 7.4, 2. ],\n",
       "       [2. , 7.9, 2. ],\n",
       "       [2.2, 6.4, 2. ],\n",
       "       [1.5, 6.3, 2. ],\n",
       "       [1.4, 6.1, 2. ],\n",
       "       [2.3, 7.7, 2. ],\n",
       "       [2.4, 6.3, 2. ],\n",
       "       [1.8, 6.4, 2. ],\n",
       "       [1.8, 6. , 2. ],\n",
       "       [2.1, 6.9, 2. ],\n",
       "       [2.4, 6.7, 2. ],\n",
       "       [2.3, 6.9, 2. ],\n",
       "       [1.9, 5.8, 2. ],\n",
       "       [2.3, 6.8, 2. ],\n",
       "       [2.5, 6.7, 2. ],\n",
       "       [2.3, 6.7, 2. ],\n",
       "       [1.9, 6.3, 2. ],\n",
       "       [2. , 6.5, 2. ],\n",
       "       [2.3, 6.2, 2. ],\n",
       "       [1.8, 5.9, 2. ]])"
      ]
     },
     "execution_count": 22,
     "metadata": {},
     "output_type": "execute_result"
    }
   ],
   "source": [
    "combinedArr = np.concatenate((x,y), axis=1)\n",
    "combinedArr"
   ]
  },
  {
   "cell_type": "markdown",
   "metadata": {},
   "source": [
    "#### 6.4. Please complete the steps below:\n",
    "* Split both x and y arrays into two parts (train and test). So, you should have 4 new arrays: 1) xTrain, 2)xTest, 3) yTrain, 4) yTest.\n",
    "  * 70% of the data should go into the train dataset and 30% of the data should go into the test dataset. Allocation should be made randomly.\n",
    "  * When splitting the data, the order of the observations across the x and y arrays should be preserved.\n",
    "  * For instance, if you assign the 2nd observation into the test dataset, then both xTest and yTest should include the 2nd observation from their original arrays.\n",
    "\n",
    "##### Hints:\n",
    "1. <span style=\"color: black; background: black; span:hover { color: white}\">Numpy's random.choice function might be helpful. </span>\n",
    "1. <span style=\"color: black; background: black; span:hover { color: white}\">Pay attention to sampling with replacement vs. sampling without replacement.</span>"
   ]
  },
  {
   "cell_type": "code",
   "execution_count": 23,
   "metadata": {},
   "outputs": [],
   "source": [
    "from sklearn.model_selection import train_test_split\n",
    "\n",
    "xtrain, xtest = train_test_split(combinedArr, test_size=0.3, random_state = 42)\n",
    "ytrain, ytest = train_test_split(combinedArr, test_size=0.3, random_state = 42)"
   ]
  },
  {
   "cell_type": "markdown",
   "metadata": {},
   "source": [
    "#### 6.5. Please complete the steps below:\n",
    "* Find the mean of each column in xTest.\n",
    "* Find the maximum value of each row in xTest."
   ]
  },
  {
   "cell_type": "code",
   "execution_count": 28,
   "metadata": {},
   "outputs": [],
   "source": [
    "mean = np.mean(xtest, axis=0)"
   ]
  },
  {
   "cell_type": "code",
   "execution_count": 29,
   "metadata": {},
   "outputs": [],
   "source": [
    "maxVal = np.max(xtest, axis=1)\n"
   ]
  }
 ],
 "metadata": {
  "kernelspec": {
   "display_name": "Python 3",
   "language": "python",
   "name": "python3"
  },
  "language_info": {
   "codemirror_mode": {
    "name": "ipython",
    "version": 3
   },
   "file_extension": ".py",
   "mimetype": "text/x-python",
   "name": "python",
   "nbconvert_exporter": "python",
   "pygments_lexer": "ipython3",
   "version": "3.6.4"
  }
 },
 "nbformat": 4,
 "nbformat_minor": 2
}
